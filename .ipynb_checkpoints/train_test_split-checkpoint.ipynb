{
 "cells": [
  {
   "cell_type": "code",
   "execution_count": 1,
   "id": "9837b80b",
   "metadata": {
    "ExecuteTime": {
     "end_time": "2022-06-30T00:19:34.735724Z",
     "start_time": "2022-06-30T00:19:34.710788Z"
    }
   },
   "outputs": [],
   "source": [
    "from sklearn.datasets import load_iris"
   ]
  },
  {
   "cell_type": "code",
   "execution_count": 2,
   "id": "c18daaad",
   "metadata": {
    "ExecuteTime": {
     "end_time": "2022-06-30T00:21:02.950272Z",
     "start_time": "2022-06-30T00:21:02.912370Z"
    }
   },
   "outputs": [],
   "source": [
    "iris_data=load_iris()"
   ]
  },
  {
   "cell_type": "code",
   "execution_count": 3,
   "id": "c267f984",
   "metadata": {
    "ExecuteTime": {
     "end_time": "2022-06-30T00:21:17.686637Z",
     "start_time": "2022-06-30T00:21:17.664661Z"
    }
   },
   "outputs": [
    {
     "data": {
      "text/plain": [
       "dict_keys(['data', 'target', 'frame', 'target_names', 'DESCR', 'feature_names', 'filename', 'data_module'])"
      ]
     },
     "execution_count": 3,
     "metadata": {},
     "output_type": "execute_result"
    }
   ],
   "source": [
    "iris_data.keys()"
   ]
  },
  {
   "cell_type": "code",
   "execution_count": 6,
   "id": "160116c4",
   "metadata": {
    "ExecuteTime": {
     "end_time": "2022-06-30T00:32:09.257562Z",
     "start_time": "2022-06-30T00:32:09.240609Z"
    }
   },
   "outputs": [],
   "source": [
    "X_train = iris_data.data[0:120]\n",
    "X_test = iris_data.data[120:]"
   ]
  },
  {
   "cell_type": "code",
   "execution_count": 7,
   "id": "8ea9d4c1",
   "metadata": {
    "ExecuteTime": {
     "end_time": "2022-06-30T00:32:42.504685Z",
     "start_time": "2022-06-30T00:32:42.494677Z"
    }
   },
   "outputs": [],
   "source": [
    "y_train = iris_data.target[0:120]\n",
    "y_test = iris_data.target[120:]"
   ]
  },
  {
   "cell_type": "code",
   "execution_count": 8,
   "id": "32c25b79",
   "metadata": {
    "ExecuteTime": {
     "end_time": "2022-06-30T00:33:01.397261Z",
     "start_time": "2022-06-30T00:33:01.387286Z"
    }
   },
   "outputs": [
    {
     "data": {
      "text/plain": [
       "array([0, 0, 0, 0, 0, 0, 0, 0, 0, 0, 0, 0, 0, 0, 0, 0, 0, 0, 0, 0, 0, 0,\n",
       "       0, 0, 0, 0, 0, 0, 0, 0, 0, 0, 0, 0, 0, 0, 0, 0, 0, 0, 0, 0, 0, 0,\n",
       "       0, 0, 0, 0, 0, 0, 1, 1, 1, 1, 1, 1, 1, 1, 1, 1, 1, 1, 1, 1, 1, 1,\n",
       "       1, 1, 1, 1, 1, 1, 1, 1, 1, 1, 1, 1, 1, 1, 1, 1, 1, 1, 1, 1, 1, 1,\n",
       "       1, 1, 1, 1, 1, 1, 1, 1, 1, 1, 1, 1, 2, 2, 2, 2, 2, 2, 2, 2, 2, 2,\n",
       "       2, 2, 2, 2, 2, 2, 2, 2, 2, 2])"
      ]
     },
     "execution_count": 8,
     "metadata": {},
     "output_type": "execute_result"
    }
   ],
   "source": [
    "y_train"
   ]
  },
  {
   "cell_type": "code",
   "execution_count": 11,
   "id": "06ca7531",
   "metadata": {
    "ExecuteTime": {
     "end_time": "2022-06-30T00:36:25.888795Z",
     "start_time": "2022-06-30T00:36:25.569768Z"
    }
   },
   "outputs": [
    {
     "data": {
      "text/plain": [
       "[<matplotlib.lines.Line2D at 0x2c1f4403940>]"
      ]
     },
     "execution_count": 11,
     "metadata": {},
     "output_type": "execute_result"
    },
    {
     "data": {
      "image/png": "[encoded data removed]",
      "text/plain": [
       "<Figure size 432x288 with 1 Axes>"
      ]
     },
     "metadata": {
      "needs_background": "light"
     },
     "output_type": "display_data"
    }
   ],
   "source": [
    "import matplotlib.pyplot as plt\n",
    "plt.plot(y_train)"
   ]
  },
  {
   "cell_type": "code",
   "execution_count": 9,
   "id": "ab8b76b8",
   "metadata": {
    "ExecuteTime": {
     "end_time": "2022-06-30T00:33:05.539741Z",
     "start_time": "2022-06-30T00:33:05.520793Z"
    }
   },
   "outputs": [
    {
     "data": {
      "text/plain": [
       "array([2, 2, 2, 2, 2, 2, 2, 2, 2, 2, 2, 2, 2, 2, 2, 2, 2, 2, 2, 2, 2, 2,\n",
       "       2, 2, 2, 2, 2, 2, 2, 2])"
      ]
     },
     "execution_count": 9,
     "metadata": {},
     "output_type": "execute_result"
    }
   ],
   "source": [
    "y_test"
   ]
  },
  {
   "cell_type": "code",
   "execution_count": 12,
   "id": "f29d9508",
   "metadata": {
    "ExecuteTime": {
     "end_time": "2022-06-30T00:52:57.857751Z",
     "start_time": "2022-06-30T00:52:57.844787Z"
    }
   },
   "outputs": [],
   "source": [
    "from sklearn.model_selection import train_test_split"
   ]
  },
  {
   "cell_type": "code",
   "execution_count": 13,
   "id": "fc8739b9",
   "metadata": {
    "ExecuteTime": {
     "end_time": "2022-06-30T00:53:57.033211Z",
     "start_time": "2022-06-30T00:53:57.007308Z"
    }
   },
   "outputs": [],
   "source": [
    "X_train, X_test, y_train, y_test = train_test_split(iris_data.data, iris_data.target, test_size =0.3, random_state =10)"
   ]
  },
  {
   "cell_type": "code",
   "execution_count": 14,
   "id": "0a5410b7",
   "metadata": {
    "ExecuteTime": {
     "end_time": "2022-06-30T00:54:29.794110Z",
     "start_time": "2022-06-30T00:54:29.761157Z"
    }
   },
   "outputs": [
    {
     "data": {
      "text/plain": [
       "[array([[5.2, 4.1, 1.5, 0.1],\n",
       "        [6.9, 3.1, 4.9, 1.5],\n",
       "        [5.9, 3.2, 4.8, 1.8],\n",
       "        [5.6, 2.8, 4.9, 2. ],\n",
       "        [6.7, 3.3, 5.7, 2.5],\n",
       "        [6.2, 2.2, 4.5, 1.5],\n",
       "        [7.2, 3.6, 6.1, 2.5],\n",
       "        [5.5, 2.4, 3.7, 1. ],\n",
       "        [6. , 2.9, 4.5, 1.5],\n",
       "        [6.4, 3.2, 4.5, 1.5],\n",
       "        [5.8, 4. , 1.2, 0.2],\n",
       "        [5.3, 3.7, 1.5, 0.2],\n",
       "        [6.1, 2.9, 4.7, 1.4],\n",
       "        [5.4, 3.4, 1.7, 0.2],\n",
       "        [6.4, 3.1, 5.5, 1.8],\n",
       "        [4.7, 3.2, 1.6, 0.2],\n",
       "        [4.6, 3.1, 1.5, 0.2],\n",
       "        [4.9, 2.5, 4.5, 1.7],\n",
       "        [5.1, 2.5, 3. , 1.1],\n",
       "        [6.7, 3.1, 5.6, 2.4],\n",
       "        [4.9, 3.6, 1.4, 0.1],\n",
       "        [6.9, 3.1, 5.4, 2.1],\n",
       "        [4.8, 3. , 1.4, 0.3],\n",
       "        [5.8, 2.7, 3.9, 1.2],\n",
       "        [6. , 2.7, 5.1, 1.6],\n",
       "        [4.4, 3.2, 1.3, 0.2],\n",
       "        [6.8, 3.2, 5.9, 2.3],\n",
       "        [7.9, 3.8, 6.4, 2. ],\n",
       "        [6.5, 3. , 5.5, 1.8],\n",
       "        [7.6, 3. , 6.6, 2.1],\n",
       "        [6.3, 2.8, 5.1, 1.5],\n",
       "        [4.6, 3.4, 1.4, 0.3],\n",
       "        [5.7, 2.6, 3.5, 1. ],\n",
       "        [6.7, 2.5, 5.8, 1.8],\n",
       "        [5.7, 2.8, 4.1, 1.3],\n",
       "        [4.9, 3.1, 1.5, 0.2],\n",
       "        [6.4, 2.8, 5.6, 2.1],\n",
       "        [7. , 3.2, 4.7, 1.4],\n",
       "        [5.7, 2.9, 4.2, 1.3],\n",
       "        [5. , 3.6, 1.4, 0.2],\n",
       "        [5.4, 3.9, 1.7, 0.4],\n",
       "        [5.1, 3.8, 1.9, 0.4],\n",
       "        [5.4, 3. , 4.5, 1.5],\n",
       "        [7.4, 2.8, 6.1, 1.9],\n",
       "        [6.3, 2.9, 5.6, 1.8],\n",
       "        [6.6, 3. , 4.4, 1.4],\n",
       "        [5. , 3.4, 1.5, 0.2],\n",
       "        [5.1, 3.8, 1.6, 0.2],\n",
       "        [5.1, 3.5, 1.4, 0.3],\n",
       "        [6.5, 3. , 5.8, 2.2],\n",
       "        [5.8, 2.7, 5.1, 1.9],\n",
       "        [6.1, 2.8, 4. , 1.3],\n",
       "        [5.5, 2.4, 3.8, 1.1],\n",
       "        [6.5, 3.2, 5.1, 2. ],\n",
       "        [6.5, 3. , 5.2, 2. ],\n",
       "        [5.9, 3. , 5.1, 1.8],\n",
       "        [6.1, 2.6, 5.6, 1.4],\n",
       "        [6.4, 2.9, 4.3, 1.3],\n",
       "        [5.2, 3.4, 1.4, 0.2],\n",
       "        [4.8, 3.4, 1.6, 0.2],\n",
       "        [5.6, 2.7, 4.2, 1.3],\n",
       "        [5.1, 3.3, 1.7, 0.5],\n",
       "        [4.6, 3.6, 1. , 0.2],\n",
       "        [6.1, 3. , 4.9, 1.8],\n",
       "        [5. , 2.3, 3.3, 1. ],\n",
       "        [5.7, 3.8, 1.7, 0.3],\n",
       "        [5.2, 3.5, 1.5, 0.2],\n",
       "        [5.5, 3.5, 1.3, 0.2],\n",
       "        [4.9, 2.4, 3.3, 1. ],\n",
       "        [5.4, 3.4, 1.5, 0.4],\n",
       "        [6.7, 3.1, 4.4, 1.4],\n",
       "        [4.8, 3. , 1.4, 0.1],\n",
       "        [5.5, 2.5, 4. , 1.3],\n",
       "        [6. , 2.2, 5. , 1.5],\n",
       "        [4.8, 3.1, 1.6, 0.2],\n",
       "        [6.7, 3.1, 4.7, 1.5],\n",
       "        [5.8, 2.6, 4. , 1.2],\n",
       "        [6.2, 3.4, 5.4, 2.3],\n",
       "        [5. , 3. , 1.6, 0.2],\n",
       "        [6. , 3. , 4.8, 1.8],\n",
       "        [4.3, 3. , 1.1, 0.1],\n",
       "        [5.6, 2.5, 3.9, 1.1],\n",
       "        [6.7, 3. , 5. , 1.7],\n",
       "        [7.7, 3. , 6.1, 2.3],\n",
       "        [6.3, 3.4, 5.6, 2.4],\n",
       "        [5.5, 4.2, 1.4, 0.2],\n",
       "        [6. , 2.2, 4. , 1. ],\n",
       "        [7.7, 2.8, 6.7, 2. ],\n",
       "        [7.3, 2.9, 6.3, 1.8],\n",
       "        [5.6, 3. , 4.1, 1.3],\n",
       "        [6.5, 2.8, 4.6, 1.5],\n",
       "        [6.3, 3.3, 6. , 2.5],\n",
       "        [5.4, 3.9, 1.3, 0.4],\n",
       "        [6.4, 3.2, 5.3, 2.3],\n",
       "        [5. , 3.5, 1.3, 0.3],\n",
       "        [5.1, 3.5, 1.4, 0.2],\n",
       "        [6.1, 2.8, 4.7, 1.2],\n",
       "        [4.4, 2.9, 1.4, 0.2],\n",
       "        [6.7, 3. , 5.2, 2.3],\n",
       "        [6.3, 2.7, 4.9, 1.8],\n",
       "        [5.7, 2.5, 5. , 2. ],\n",
       "        [5.6, 2.9, 3.6, 1.3],\n",
       "        [5.7, 4.4, 1.5, 0.4],\n",
       "        [7.2, 3.2, 6. , 1.8],\n",
       "        [4.9, 3.1, 1.5, 0.1]]),\n",
       " array([[6.3, 2.3, 4.4, 1.3],\n",
       "        [6.4, 2.7, 5.3, 1.9],\n",
       "        [5.4, 3.7, 1.5, 0.2],\n",
       "        [6.1, 3. , 4.6, 1.4],\n",
       "        [5. , 3.3, 1.4, 0.2],\n",
       "        [5. , 2. , 3.5, 1. ],\n",
       "        [6.3, 2.5, 4.9, 1.5],\n",
       "        [5.8, 2.7, 4.1, 1. ],\n",
       "        [5.1, 3.4, 1.5, 0.2],\n",
       "        [5.7, 2.8, 4.5, 1.3],\n",
       "        [5.6, 3. , 4.5, 1.5],\n",
       "        [5.8, 2.7, 5.1, 1.9],\n",
       "        [5.5, 2.3, 4. , 1.3],\n",
       "        [4.9, 3. , 1.4, 0.2],\n",
       "        [5.1, 3.8, 1.5, 0.3],\n",
       "        [6.8, 3. , 5.5, 2.1],\n",
       "        [6. , 3.4, 4.5, 1.6],\n",
       "        [4.4, 3. , 1.3, 0.2],\n",
       "        [5.1, 3.7, 1.5, 0.4],\n",
       "        [5. , 3.2, 1.2, 0.2],\n",
       "        [7.1, 3. , 5.9, 2.1],\n",
       "        [6.4, 2.8, 5.6, 2.2],\n",
       "        [6.2, 2.8, 4.8, 1.8],\n",
       "        [4.8, 3.4, 1.9, 0.2],\n",
       "        [5.9, 3. , 4.2, 1.5],\n",
       "        [4.7, 3.2, 1.3, 0.2],\n",
       "        [5.7, 3. , 4.2, 1.2],\n",
       "        [5.5, 2.6, 4.4, 1.2],\n",
       "        [6.8, 2.8, 4.8, 1.4],\n",
       "        [7.7, 3.8, 6.7, 2.2],\n",
       "        [6.6, 2.9, 4.6, 1.3],\n",
       "        [6.2, 2.9, 4.3, 1.3],\n",
       "        [7.2, 3. , 5.8, 1.6],\n",
       "        [5.8, 2.8, 5.1, 2.4],\n",
       "        [6.3, 2.5, 5. , 1.9],\n",
       "        [4.6, 3.2, 1.4, 0.2],\n",
       "        [6.7, 3.3, 5.7, 2.1],\n",
       "        [6.9, 3.2, 5.7, 2.3],\n",
       "        [7.7, 2.6, 6.9, 2.3],\n",
       "        [6.9, 3.1, 5.1, 2.3],\n",
       "        [5. , 3.4, 1.6, 0.4],\n",
       "        [5. , 3.5, 1.6, 0.6],\n",
       "        [5.2, 2.7, 3.9, 1.4],\n",
       "        [4.5, 2.3, 1.3, 0.3],\n",
       "        [6.3, 3.3, 4.7, 1.6]])]"
      ]
     },
     "execution_count": 14,
     "metadata": {},
     "output_type": "execute_result"
    }
   ],
   "source": [
    "train_test_split(iris_data.data, test_size =0.3, random_state =10)"
   ]
  },
  {
   "cell_type": "code",
   "execution_count": 15,
   "id": "feabac05",
   "metadata": {
    "ExecuteTime": {
     "end_time": "2022-06-30T01:26:11.222834Z",
     "start_time": "2022-06-30T01:26:11.203922Z"
    }
   },
   "outputs": [],
   "source": [
    "from sklearn.tree import DecisionTreeClassifier"
   ]
  },
  {
   "cell_type": "code",
   "execution_count": 17,
   "id": "d96115a5",
   "metadata": {
    "ExecuteTime": {
     "end_time": "2022-06-30T01:28:38.316128Z",
     "start_time": "2022-06-30T01:28:38.310143Z"
    }
   },
   "outputs": [],
   "source": [
    "from sklearn.metrics import accuracy_score"
   ]
  },
  {
   "cell_type": "code",
   "execution_count": 20,
   "id": "5ac3733b",
   "metadata": {
    "ExecuteTime": {
     "end_time": "2022-06-30T01:28:49.813074Z",
     "start_time": "2022-06-30T01:28:49.797119Z"
    }
   },
   "outputs": [
    {
     "name": "stdout",
     "output_type": "stream",
     "text": [
      "예측 정확도: 1.0\n"
     ]
    }
   ],
   "source": [
    "iris=load_iris()\n",
    "dt_clf=DecisionTreeClassifier()\n",
    "train_data=iris.data\n",
    "train_label=iris.target\n",
    "dt_clf.fit(train_data, train_label)\n",
    "\n",
    "pred=dt_clf.predict(train_data)\n",
    "print('예측 정확도:', accuracy_score(train_label,pred))"
   ]
  },
  {
   "cell_type": "code",
   "execution_count": 40,
   "id": "c02a9d41",
   "metadata": {
    "ExecuteTime": {
     "end_time": "2022-06-30T01:41:10.574934Z",
     "start_time": "2022-06-30T01:41:10.564961Z"
    }
   },
   "outputs": [],
   "source": [
    "dt_clf=DecisionTreeClassifier(max_depth=4,  random_state=11)"
   ]
  },
  {
   "cell_type": "code",
   "execution_count": 41,
   "id": "e57c1496",
   "metadata": {
    "ExecuteTime": {
     "end_time": "2022-06-30T01:41:10.871688Z",
     "start_time": "2022-06-30T01:41:10.861717Z"
    }
   },
   "outputs": [
    {
     "name": "stdout",
     "output_type": "stream",
     "text": [
      "예측 정확도:.0.9555555555555556\n"
     ]
    }
   ],
   "source": [
    "dt_clf.fit(X_train, y_train)\n",
    "pred = dt_clf.predict(X_test)\n",
    "print(f'예측 정확도:.{accuracy_score(y_test,pred)}')"
   ]
  },
  {
   "cell_type": "code",
   "execution_count": 49,
   "id": "ddfd8069",
   "metadata": {
    "ExecuteTime": {
     "end_time": "2022-06-30T01:44:05.147257Z",
     "start_time": "2022-06-30T01:44:05.134291Z"
    }
   },
   "outputs": [
    {
     "name": "stdout",
     "output_type": "stream",
     "text": [
      "예측 정확도:.0.9333333333333333\n"
     ]
    }
   ],
   "source": [
    "from sklearn.tree import DecisionTreeClassifier\n",
    "dt_clf=DecisionTreeClassifier(max_depth=2,  random_state=11)\n",
    "dt_clf.fit(train_data, train_label)\n",
    "pred = dt_clf.predict(X_test)\n",
    "from sklearn.metrics import accuracy_score\n",
    "print(f'예측 정확도:.{accuracy_score(y_test,pred)}')"
   ]
  },
  {
   "cell_type": "code",
   "execution_count": null,
   "id": "173d50a3",
   "metadata": {},
   "outputs": [],
   "source": []
  }
 ],
 "metadata": {
  "kernelspec": {
   "display_name": "Python 3 (ipykernel)",
   "language": "python",
   "name": "python3"
  },
  "language_info": {
   "codemirror_mode": {
    "name": "ipython",
    "version": 3
   },
   "file_extension": ".py",
   "mimetype": "text/x-python",
   "name": "python",
   "nbconvert_exporter": "python",
   "pygments_lexer": "ipython3",
   "version": "3.8.7"
  },
  "toc": {
   "base_numbering": 1,
   "nav_menu": {},
   "number_sections": true,
   "sideBar": true,
   "skip_h1_title": false,
   "title_cell": "Table of Contents",
   "title_sidebar": "Contents",
   "toc_cell": false,
   "toc_position": {},
   "toc_section_display": true,
   "toc_window_display": false
  }
 },
 "nbformat": 4,
 "nbformat_minor": 5
}
