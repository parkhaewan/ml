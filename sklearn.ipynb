{
 "cells": [
  {
   "cell_type": "markdown",
   "id": "d90a011f",
   "metadata": {},
   "source": [
    "## sklearn"
   ]
  },
  {
   "cell_type": "markdown",
   "id": "c65b768a",
   "metadata": {},
   "source": [
    "### sklearn.datasets: Datasets"
   ]
  },
  {
   "cell_type": "markdown",
   "id": "987bc2e6",
   "metadata": {},
   "source": [
    "#### Loaders\n",
    "* datasets.clear_data_home([data_home]) : Delete all the content of the data home cache.\n",
    "\n",
    "* datasets.dump_svmlight_file(X, y, f, *[, ...]) : Dump the dataset in svmlight / libsvm file format.\n",
    "\n",
    "* datasets.fetch_20newsgroups(*[, data_home, ...]) : Load the filenames and data from the 20 newsgroups dataset (classification).\n",
    "\n",
    "* datasets.fetch_20newsgroups_vectorized(*[, ...]) : Load and vectorize the 20 newsgroups dataset (classification).\n",
    "\n",
    "* datasets.fetch_california_housing(*[, ...]) : Load the California housing dataset (regression).\n",
    "\n",
    "* datasets.fetch_covtype(*[, data_home, ...]) : Load the covertype dataset (classification).\n",
    "\n",
    "* datasets.fetch_kddcup99(*[, subset, ...]) : Load the kddcup99 dataset (classification).\n",
    "\n",
    "* datasets.fetch_lfw_pairs(*[, subset, ...]) : Load the Labeled Faces in the Wild (LFW) pairs dataset (classification).\n",
    "\n",
    "* datasets.fetch_lfw_people(*[, data_home, ...]) : Load the Labeled Faces in the Wild (LFW) people dataset (classification).\n",
    "\n",
    "* datasets.fetch_olivetti_faces(*[, ...]) : Load the Olivetti faces data-set from AT&T (classification).\n",
    "\n",
    "* datasets.fetch_openml([name, version, ...]) : Fetch dataset from openml by name or dataset id.\n",
    "\n",
    "* datasets.fetch_rcv1(*[, data_home, subset, ...]) : Load the RCV1 multilabel dataset (classification).\n",
    "\n",
    "* datasets.fetch_species_distributions(*[, ...]) : Loader for species distribution dataset from Phillips et.\n",
    "\n",
    "* datasets.get_data_home([data_home]) : Return the path of the scikit-learn data directory.\n",
    "\n",
    "* datasets.load_boston(*[, return_X_y]) : DEPRECATED: load_boston is deprecated in 1.0 and will be removed in 1.2.\n",
    "\n",
    "* datasets.load_breast_cancer(*[, return_X_y, ...]) : Load and return the breast cancer wisconsin dataset (classification).\n",
    "\n",
    "* datasets.load_diabetes(*[, return_X_y, ...]) : Load and return the diabetes dataset (regression).\n",
    "\n",
    "* datasets.load_digits(*[, n_class, ...]) : Load and return the digits dataset (classification).\n",
    "\n",
    "* datasets.load_files(container_path, *[, ...]) : Load text files with categories as subfolder names.\n",
    "\n",
    "* datasets.load_iris(*[, return_X_y, as_frame]) : Load and return the iris dataset (classification).\n",
    "\n",
    "* datasets.load_linnerud(*[, return_X_y, as_frame]) : Load and return the physical exercise Linnerud dataset.\n",
    "\n",
    "* datasets.load_sample_image(image_name) : Load the numpy array of a single sample image.\n",
    "\n",
    "* datasets.load_sample_images() : Load sample images for image manipulation.\n",
    "\n",
    "* datasets.load_svmlight_file(f, *[, ...]) : Load datasets in the svmlight / libsvm format into sparse CSR matrix\n",
    "\n",
    "* datasets.load_svmlight_files(files, *[, ...]) : Load dataset from multiple files in SVMlight format\n",
    "\n",
    "* datasets.load_wine(*[, return_X_y, as_frame]) : Load and return the wine dataset (classification)."
   ]
  },
  {
   "cell_type": "code",
   "execution_count": null,
   "id": "ffa444ff",
   "metadata": {},
   "outputs": [],
   "source": []
  },
  {
   "cell_type": "code",
   "execution_count": null,
   "id": "2f6569f9",
   "metadata": {},
   "outputs": [],
   "source": []
  }
 ],
 "metadata": {
  "kernelspec": {
   "display_name": "Python 3 (ipykernel)",
   "language": "python",
   "name": "python3"
  },
  "language_info": {
   "codemirror_mode": {
    "name": "ipython",
    "version": 3
   },
   "file_extension": ".py",
   "mimetype": "text/x-python",
   "name": "python",
   "nbconvert_exporter": "python",
   "pygments_lexer": "ipython3",
   "version": "3.8.7"
  },
  "toc": {
   "base_numbering": 1,
   "nav_menu": {},
   "number_sections": true,
   "sideBar": true,
   "skip_h1_title": false,
   "title_cell": "Table of Contents",
   "title_sidebar": "Contents",
   "toc_cell": false,
   "toc_position": {},
   "toc_section_display": true,
   "toc_window_display": true
  }
 },
 "nbformat": 4,
 "nbformat_minor": 5
}
