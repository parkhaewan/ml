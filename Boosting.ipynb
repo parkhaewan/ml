{
 "cells": [
  {
   "cell_type": "code",
   "execution_count": 9,
   "id": "1c984365",
   "metadata": {
    "ExecuteTime": {
     "end_time": "2022-07-05T01:40:47.819615Z",
     "start_time": "2022-07-05T01:40:47.810639Z"
    }
   },
   "outputs": [],
   "source": [
    "from sklearn.ensemble import GradientBoostingClassifier\n",
    "from sklearn.model_selection import train_test_split\n",
    "from sklearn.datasets import load_iris\n",
    "\n",
    "iris = load_iris()\n",
    "X_train, X_test, y_train, y_test = train_test_split(iris.data, iris.target,\n",
    "                 test_size =0.2, random_state =110)"
   ]
  },
  {
   "cell_type": "code",
   "execution_count": 13,
   "id": "ba681f7c",
   "metadata": {
    "ExecuteTime": {
     "end_time": "2022-07-05T01:45:00.931980Z",
     "start_time": "2022-07-05T01:45:00.649793Z"
    }
   },
   "outputs": [
    {
     "name": "stdout",
     "output_type": "stream",
     "text": [
      "GBM 정확도 : 0.9666666666666667\n"
     ]
    }
   ],
   "source": [
    "from sklearn.metrics import accuracy_score\n",
    "\n",
    "df_clf=GradientBoostingClassifier(random_state=110)\n",
    "df_clf.fit(X_train, y_train)\n",
    "df_pred=df_clf.predict(X_test)\n",
    "df_accuracy = accuracy_score(y_test, df_pred)\n",
    "\n",
    "print(f'GBM 정확도 : {df_accuracy}')"
   ]
  },
  {
   "cell_type": "code",
   "execution_count": 17,
   "id": "0eb7c6d5",
   "metadata": {
    "ExecuteTime": {
     "end_time": "2022-07-05T01:53:26.658878Z",
     "start_time": "2022-07-05T01:53:22.562828Z"
    }
   },
   "outputs": [
    {
     "name": "stdout",
     "output_type": "stream",
     "text": [
      "Fitting 2 folds for each of 4 candidates, totalling 8 fits\n",
      "최적 하이퍼 파라미터:\n",
      " {'learning_rate': 0.05, 'n_estimators': 100}\n",
      "최고 예측 정확도 : 0.95\n"
     ]
    }
   ],
   "source": [
    "from sklearn.model_selection import GridSearchCV\n",
    "\n",
    "params = {\n",
    "    'n_estimators':[100,500],\n",
    "    'learning_rate':[0.05, 0.1]\n",
    "}\n",
    "grid_cv = GridSearchCV(df_clf, param_grid=params, cv=2, verbose=1)\n",
    "grid_cv.fit(X_train,y_train)\n",
    "\n",
    "print('최적 하이퍼 파라미터:\\n', grid_cv.best_params_)\n",
    "print(f'최고 예측 정확도 : {grid_cv.best_score_}')"
   ]
  },
  {
   "cell_type": "code",
   "execution_count": 19,
   "id": "0f1f84ab",
   "metadata": {
    "ExecuteTime": {
     "end_time": "2022-07-05T01:57:47.225682Z",
     "start_time": "2022-07-05T01:57:47.206362Z"
    }
   },
   "outputs": [
    {
     "name": "stdout",
     "output_type": "stream",
     "text": [
      "GBM 정확도:0.9666666666666667\n"
     ]
    }
   ],
   "source": [
    "df_pred = grid_cv.predict(X_test)\n",
    "df_accuracy = accuracy_score(y_test, df_pred)\n",
    "print(f'GBM 정확도:{df_accuracy}')"
   ]
  },
  {
   "cell_type": "code",
   "execution_count": 20,
   "id": "2f2aa144",
   "metadata": {
    "ExecuteTime": {
     "end_time": "2022-07-05T02:25:13.290084Z",
     "start_time": "2022-07-05T02:24:25.533144Z"
    }
   },
   "outputs": [
    {
     "name": "stdout",
     "output_type": "stream",
     "text": [
      "Collecting xgboost\n",
      "  Downloading xgboost-1.6.1-py3-none-win_amd64.whl (125.4 MB)\n",
      "     -------------------------------------- 125.4/125.4 MB 2.6 MB/s eta 0:00:00\n",
      "Requirement already satisfied: scipy in c:\\users\\phw91\\appdata\\local\\programs\\python\\python38\\lib\\site-packages (from xgboost) (1.8.1)\n",
      "Requirement already satisfied: numpy in c:\\users\\phw91\\appdata\\local\\programs\\python\\python38\\lib\\site-packages (from xgboost) (1.22.4)\n",
      "Installing collected packages: xgboost\n",
      "Successfully installed xgboost-1.6.1\n",
      "Note: you may need to restart the kernel to use updated packages.\n"
     ]
    }
   ],
   "source": [
    "pip install xgboost"
   ]
  },
  {
   "cell_type": "code",
   "execution_count": 21,
   "id": "422afa5d",
   "metadata": {
    "ExecuteTime": {
     "end_time": "2022-07-05T02:29:16.662884Z",
     "start_time": "2022-07-05T02:29:15.819898Z"
    }
   },
   "outputs": [
    {
     "ename": "NameError",
     "evalue": "name 'xgb' is not defined",
     "output_type": "error",
     "traceback": [
      "\u001b[1;31m---------------------------------------------------------------------------\u001b[0m",
      "\u001b[1;31mNameError\u001b[0m                                 Traceback (most recent call last)",
      "Input \u001b[1;32mIn [21]\u001b[0m, in \u001b[0;36m<cell line: 3>\u001b[1;34m()\u001b[0m\n\u001b[0;32m      1\u001b[0m \u001b[38;5;28;01mimport\u001b[39;00m \u001b[38;5;21;01mxgboost\u001b[39;00m \u001b[38;5;28;01mas\u001b[39;00m \u001b[38;5;21;01mxgbo\u001b[39;00m\n\u001b[1;32m----> 3\u001b[0m bst \u001b[38;5;241m=\u001b[39m \u001b[43mxgb\u001b[49m\u001b[38;5;241m.\u001b[39mtrain(param, dtrain, num_round)\n\u001b[0;32m      4\u001b[0m preds \u001b[38;5;241m=\u001b[39m bst\u001b[38;5;241m.\u001b[39mpredict(dtest)\n\u001b[0;32m      6\u001b[0m params \u001b[38;5;241m=\u001b[39m {\n\u001b[0;32m      7\u001b[0m     \u001b[38;5;124m'\u001b[39m\u001b[38;5;124mn_estimators\u001b[39m\u001b[38;5;124m'\u001b[39m:[\u001b[38;5;241m100\u001b[39m,\u001b[38;5;241m500\u001b[39m],\n\u001b[0;32m      8\u001b[0m     \u001b[38;5;124m'\u001b[39m\u001b[38;5;124mlearning_rate\u001b[39m\u001b[38;5;124m'\u001b[39m:[\u001b[38;5;241m0.05\u001b[39m, \u001b[38;5;241m0.1\u001b[39m]\n\u001b[0;32m      9\u001b[0m }\n",
      "\u001b[1;31mNameError\u001b[0m: name 'xgb' is not defined"
     ]
    }
   ],
   "source": [
    "import xgboost as xgbo\n",
    "\n",
    "bst = xgb.train(param, dtrain, num_round)\n",
    "preds = bst.predict(dtest)\n",
    "\n",
    "params = {\n",
    "    'n_estimators':[100,500],\n",
    "    'learning_rate':[0.05, 0.1]\n",
    "}\n",
    "grid_cv = xgb(df_clf, param_grid=params, cv=2, verbose=1)\n",
    "grid_cv.fit(X_train,y_train)\n",
    "\n",
    "print('최적 하이퍼 파라미터:\\n', grid_cv.best_params_)\n",
    "print(f'최고 예측 정확도 : {grid_cv.best_score_}')\n",
    "\n",
    "df_pred = grid_cv.predict(X_test)\n",
    "df_accuracy = accuracy_score(y_test, df_pred)\n",
    "print(f'GBM 정확도:{df_accuracy}')"
   ]
  },
  {
   "cell_type": "markdown",
   "id": "065cc717",
   "metadata": {},
   "source": [
    "### XGboost"
   ]
  },
  {
   "cell_type": "code",
   "execution_count": 22,
   "id": "c9c14d38",
   "metadata": {
    "ExecuteTime": {
     "end_time": "2022-07-05T02:32:54.656124Z",
     "start_time": "2022-07-05T02:32:54.620777Z"
    }
   },
   "outputs": [
    {
     "ename": "NameError",
     "evalue": "name 'Y_train' is not defined",
     "output_type": "error",
     "traceback": [
      "\u001b[1;31m---------------------------------------------------------------------------\u001b[0m",
      "\u001b[1;31mNameError\u001b[0m                                 Traceback (most recent call last)",
      "Input \u001b[1;32mIn [22]\u001b[0m, in \u001b[0;36m<cell line: 10>\u001b[1;34m()\u001b[0m\n\u001b[0;32m      7\u001b[0m xgb  \u001b[38;5;241m=\u001b[39m XGBClassifier()\n\u001b[0;32m      9\u001b[0m \u001b[38;5;66;03m# 2. 모델 훈련 fit()함수\u001b[39;00m\n\u001b[1;32m---> 10\u001b[0m xgb\u001b[38;5;241m.\u001b[39mfit(X_train, \u001b[43mY_train\u001b[49m)\n\u001b[0;32m     12\u001b[0m \u001b[38;5;66;03m# 3. 모델 예측 predict()함수\u001b[39;00m\n\u001b[0;32m     13\u001b[0m Y_pred \u001b[38;5;241m=\u001b[39m xgb\u001b[38;5;241m.\u001b[39mpredict(X_test)\n",
      "\u001b[1;31mNameError\u001b[0m: name 'Y_train' is not defined"
     ]
    }
   ],
   "source": [
    "import xgboost as xgb\n",
    "from xgboost import XGBClassifier\n",
    "\n",
    "xgb  = XGBClassifier()\n",
    "\n",
    "xgb.fit(X_train, y_train)\n",
    "\n",
    "y_pred = xgb.predict(X_test)\n",
    "\n",
    "xgb.score(X_train, y_train)"
   ]
  },
  {
   "cell_type": "code",
   "execution_count": 25,
   "id": "7af2473e",
   "metadata": {
    "ExecuteTime": {
     "end_time": "2022-07-05T02:37:10.427413Z",
     "start_time": "2022-07-05T02:37:10.217976Z"
    }
   },
   "outputs": [
    {
     "name": "stdout",
     "output_type": "stream",
     "text": [
      "GBM 정확도 : 0.9666666666666667\n",
      "0.9666666666666667\n"
     ]
    }
   ],
   "source": [
    "from sklearn.model_selection import train_test_split\n",
    "from sklearn.datasets import load_iris\n",
    "from sklearn.metrics import accuracy_score\n",
    "iris = load_iris()\n",
    "X_train, X_test, y_train, y_test = train_test_split(iris.data, iris.target,\n",
    "                 test_size =0.2, random_state =110)\n",
    "\n",
    "import xgboost as xgb\n",
    "from xgboost import XGBClassifier\n",
    "\n",
    "xgb  = XGBClassifier()\n",
    "\n",
    "xgb.fit(X_train, y_train)\n",
    "\n",
    "y_pred = xgb.predict(X_test)\n",
    "\n",
    "df_accuracy = accuracy_score(y_test, df_pred)\n",
    "print(f'GBM 정확도 : {df_accuracy}')\n",
    "print(df_accuracy)"
   ]
  },
  {
   "cell_type": "code",
   "execution_count": null,
   "id": "0176809f",
   "metadata": {},
   "outputs": [],
   "source": []
  }
 ],
 "metadata": {
  "kernelspec": {
   "display_name": "Python 3 (ipykernel)",
   "language": "python",
   "name": "python3"
  },
  "language_info": {
   "codemirror_mode": {
    "name": "ipython",
    "version": 3
   },
   "file_extension": ".py",
   "mimetype": "text/x-python",
   "name": "python",
   "nbconvert_exporter": "python",
   "pygments_lexer": "ipython3",
   "version": "3.8.7"
  },
  "toc": {
   "base_numbering": 1,
   "nav_menu": {},
   "number_sections": true,
   "sideBar": true,
   "skip_h1_title": false,
   "title_cell": "Table of Contents",
   "title_sidebar": "Contents",
   "toc_cell": false,
   "toc_position": {},
   "toc_section_display": true,
   "toc_window_display": false
  }
 },
 "nbformat": 4,
 "nbformat_minor": 5
}
